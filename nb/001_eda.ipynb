{
 "cells": [
  {
   "cell_type": "markdown",
   "metadata": {},
   "source": [
    "# Overview\n",
    "- EDAを行なう"
   ]
  },
  {
   "cell_type": "markdown",
   "metadata": {},
   "source": [
    "# Const"
   ]
  },
  {
   "cell_type": "code",
   "execution_count": 1,
   "metadata": {},
   "outputs": [],
   "source": [
    "DIR_TRAIN = './../data_ignore/input/train/'\n",
    "PATH_TRAIN_TP = './../data_ignore/input/train_tp.csv'"
   ]
  },
  {
   "cell_type": "markdown",
   "metadata": {},
   "source": [
    "# Import everything I need:)"
   ]
  },
  {
   "cell_type": "code",
   "execution_count": 20,
   "metadata": {},
   "outputs": [],
   "source": [
    "import numpy as np\n",
    "import pandas as pd\n",
    "from glob import glob\n",
    "import soundfile as sf\n",
    "import librosa\n",
    "import librosa.display\n",
    "import matplotlib.pyplot as plt"
   ]
  },
  {
   "cell_type": "markdown",
   "metadata": {},
   "source": [
    "# Preparation"
   ]
  },
  {
   "cell_type": "code",
   "execution_count": 18,
   "metadata": {},
   "outputs": [],
   "source": [
    "trn_tp = pd.read_csv(PATH_TRAIN_TP)"
   ]
  },
  {
   "cell_type": "markdown",
   "metadata": {},
   "source": [
    "# EDA"
   ]
  },
  {
   "cell_type": "code",
   "execution_count": 62,
   "metadata": {},
   "outputs": [
    {
     "data": {
      "text/html": [
       "<div>\n",
       "<style scoped>\n",
       "    .dataframe tbody tr th:only-of-type {\n",
       "        vertical-align: middle;\n",
       "    }\n",
       "\n",
       "    .dataframe tbody tr th {\n",
       "        vertical-align: top;\n",
       "    }\n",
       "\n",
       "    .dataframe thead th {\n",
       "        text-align: right;\n",
       "    }\n",
       "</style>\n",
       "<table border=\"1\" class=\"dataframe\">\n",
       "  <thead>\n",
       "    <tr style=\"text-align: right;\">\n",
       "      <th></th>\n",
       "      <th>recording_id</th>\n",
       "      <th>species_id</th>\n",
       "      <th>songtype_id</th>\n",
       "      <th>t_min</th>\n",
       "      <th>f_min</th>\n",
       "      <th>t_max</th>\n",
       "      <th>f_max</th>\n",
       "    </tr>\n",
       "  </thead>\n",
       "  <tbody>\n",
       "    <tr>\n",
       "      <th>0</th>\n",
       "      <td>003bec244</td>\n",
       "      <td>14</td>\n",
       "      <td>1</td>\n",
       "      <td>44.5440</td>\n",
       "      <td>2531.250</td>\n",
       "      <td>45.1307</td>\n",
       "      <td>5531.25</td>\n",
       "    </tr>\n",
       "    <tr>\n",
       "      <th>1</th>\n",
       "      <td>006ab765f</td>\n",
       "      <td>23</td>\n",
       "      <td>1</td>\n",
       "      <td>39.9615</td>\n",
       "      <td>7235.160</td>\n",
       "      <td>46.0452</td>\n",
       "      <td>11283.40</td>\n",
       "    </tr>\n",
       "    <tr>\n",
       "      <th>2</th>\n",
       "      <td>007f87ba2</td>\n",
       "      <td>12</td>\n",
       "      <td>1</td>\n",
       "      <td>39.1360</td>\n",
       "      <td>562.500</td>\n",
       "      <td>42.2720</td>\n",
       "      <td>3281.25</td>\n",
       "    </tr>\n",
       "    <tr>\n",
       "      <th>3</th>\n",
       "      <td>0099c367b</td>\n",
       "      <td>17</td>\n",
       "      <td>4</td>\n",
       "      <td>51.4206</td>\n",
       "      <td>1464.260</td>\n",
       "      <td>55.1996</td>\n",
       "      <td>4565.04</td>\n",
       "    </tr>\n",
       "    <tr>\n",
       "      <th>4</th>\n",
       "      <td>009b760e6</td>\n",
       "      <td>10</td>\n",
       "      <td>1</td>\n",
       "      <td>50.0854</td>\n",
       "      <td>947.461</td>\n",
       "      <td>52.5293</td>\n",
       "      <td>10852.70</td>\n",
       "    </tr>\n",
       "    <tr>\n",
       "      <th>...</th>\n",
       "      <td>...</td>\n",
       "      <td>...</td>\n",
       "      <td>...</td>\n",
       "      <td>...</td>\n",
       "      <td>...</td>\n",
       "      <td>...</td>\n",
       "      <td>...</td>\n",
       "    </tr>\n",
       "    <tr>\n",
       "      <th>1211</th>\n",
       "      <td>fe8d9ac40</td>\n",
       "      <td>13</td>\n",
       "      <td>1</td>\n",
       "      <td>53.4720</td>\n",
       "      <td>93.750</td>\n",
       "      <td>54.0960</td>\n",
       "      <td>843.75</td>\n",
       "    </tr>\n",
       "    <tr>\n",
       "      <th>1212</th>\n",
       "      <td>fea6b438a</td>\n",
       "      <td>4</td>\n",
       "      <td>1</td>\n",
       "      <td>43.5787</td>\n",
       "      <td>2531.250</td>\n",
       "      <td>45.7653</td>\n",
       "      <td>4031.25</td>\n",
       "    </tr>\n",
       "    <tr>\n",
       "      <th>1213</th>\n",
       "      <td>ff2eb9ce5</td>\n",
       "      <td>0</td>\n",
       "      <td>1</td>\n",
       "      <td>15.2267</td>\n",
       "      <td>5906.250</td>\n",
       "      <td>16.0213</td>\n",
       "      <td>8250.00</td>\n",
       "    </tr>\n",
       "    <tr>\n",
       "      <th>1214</th>\n",
       "      <td>ffb8d8391</td>\n",
       "      <td>5</td>\n",
       "      <td>1</td>\n",
       "      <td>14.3467</td>\n",
       "      <td>4781.250</td>\n",
       "      <td>16.6987</td>\n",
       "      <td>10406.20</td>\n",
       "    </tr>\n",
       "    <tr>\n",
       "      <th>1215</th>\n",
       "      <td>ffb9a7b9a</td>\n",
       "      <td>18</td>\n",
       "      <td>1</td>\n",
       "      <td>40.3200</td>\n",
       "      <td>3187.500</td>\n",
       "      <td>41.0133</td>\n",
       "      <td>5062.50</td>\n",
       "    </tr>\n",
       "  </tbody>\n",
       "</table>\n",
       "<p>1216 rows × 7 columns</p>\n",
       "</div>"
      ],
      "text/plain": [
       "     recording_id  species_id  songtype_id    t_min     f_min    t_max  \\\n",
       "0       003bec244          14            1  44.5440  2531.250  45.1307   \n",
       "1       006ab765f          23            1  39.9615  7235.160  46.0452   \n",
       "2       007f87ba2          12            1  39.1360   562.500  42.2720   \n",
       "3       0099c367b          17            4  51.4206  1464.260  55.1996   \n",
       "4       009b760e6          10            1  50.0854   947.461  52.5293   \n",
       "...           ...         ...          ...      ...       ...      ...   \n",
       "1211    fe8d9ac40          13            1  53.4720    93.750  54.0960   \n",
       "1212    fea6b438a           4            1  43.5787  2531.250  45.7653   \n",
       "1213    ff2eb9ce5           0            1  15.2267  5906.250  16.0213   \n",
       "1214    ffb8d8391           5            1  14.3467  4781.250  16.6987   \n",
       "1215    ffb9a7b9a          18            1  40.3200  3187.500  41.0133   \n",
       "\n",
       "         f_max  \n",
       "0      5531.25  \n",
       "1     11283.40  \n",
       "2      3281.25  \n",
       "3      4565.04  \n",
       "4     10852.70  \n",
       "...        ...  \n",
       "1211    843.75  \n",
       "1212   4031.25  \n",
       "1213   8250.00  \n",
       "1214  10406.20  \n",
       "1215   5062.50  \n",
       "\n",
       "[1216 rows x 7 columns]"
      ]
     },
     "execution_count": 62,
     "metadata": {},
     "output_type": "execute_result"
    }
   ],
   "source": [
    "trn_tp"
   ]
  },
  {
   "cell_type": "markdown",
   "metadata": {},
   "source": [
    "<br>\n",
    "\n",
    "recording_id が複数あるものを見る"
   ]
  },
  {
   "cell_type": "code",
   "execution_count": 76,
   "metadata": {},
   "outputs": [
    {
     "data": {
      "text/plain": [
       "recording_id\n",
       "003bec244    1\n",
       "006ab765f    1\n",
       "007f87ba2    1\n",
       "0099c367b    1\n",
       "009b760e6    1\n",
       "            ..\n",
       "fe8d9ac40    1\n",
       "fea6b438a    1\n",
       "ff2eb9ce5    1\n",
       "ffb8d8391    1\n",
       "ffb9a7b9a    1\n",
       "Name: species_id, Length: 1132, dtype: int64"
      ]
     },
     "execution_count": 76,
     "metadata": {},
     "output_type": "execute_result"
    }
   ],
   "source": [
    "trn_tp.groupby('recording_id')['species_id'].nunique()"
   ]
  },
  {
   "cell_type": "code",
   "execution_count": 77,
   "metadata": {},
   "outputs": [
    {
     "name": "stdout",
     "output_type": "stream",
     "text": [
      "67\n"
     ]
    },
    {
     "data": {
      "text/plain": [
       "array(['03b96f209', '053aeb7bd', '11c2c02e5', '160add406', '16553d5cd',\n",
       "       '178b835e3', '1aa00dc63', '21e2f2977', '287bf77ec', '2bcddf9a5',\n",
       "       '2d09eb065', '2dc763e67', '2eb098e76', '33d0f2685', '34340b225',\n",
       "       '349095631', '3c621e663', '400b7210c', '41829d963', '43d34d63c',\n",
       "       '48fb5143f', '534db172e', '551385b05', '55b2b19d1', '561ed4362',\n",
       "       '59a9eb657', '5b1e3b55b', '5bfe1dec6', '5db2e86fe', '5f8eecc9e',\n",
       "       '5f9b4785b', '60b260508', '69aacafc4', '6bf2953a8', '6d93f853d',\n",
       "       '71cf9646b', '728459067', '77299bde7', '774912d66', '7a9d46229',\n",
       "       '9251fdbdd', '942ca05c0', '9a76cab9c', 'a2441a74b', 'a993402e2',\n",
       "       'b056e5bc2', 'b55d2f7b4', 'b62b5a988', 'b7485fa88', 'bc9dd660e',\n",
       "       'bd62d4fa2', 'bf964d1fa', 'c12e0a62b', 'c91cae4aa', 'cb5ddad47',\n",
       "       'ccee900dd', 'd2cb96229', 'd58429096', 'd59d099b3', 'd80fab44f',\n",
       "       'dd38bef4b', 'e42215aa0', 'e6de52902', 'ed2f84e75', 'ee3dc0bc6',\n",
       "       'f3f82b897', 'f97ababc1'], dtype=object)"
      ]
     },
     "execution_count": 77,
     "metadata": {},
     "output_type": "execute_result"
    }
   ],
   "source": [
    "idxs = trn_tp.groupby('recording_id')['species_id'].count() != 1\n",
    "multi_species = trn_tp.groupby('recording_id').count()[idxs].index.values\n",
    "print(len(multi_species))\n",
    "multi_species"
   ]
  },
  {
   "cell_type": "code",
   "execution_count": 78,
   "metadata": {},
   "outputs": [
    {
     "data": {
      "text/plain": [
       "1    1065\n",
       "2      55\n",
       "3       8\n",
       "4       3\n",
       "5       1\n",
       "Name: species_id, dtype: int64"
      ]
     },
     "execution_count": 78,
     "metadata": {},
     "output_type": "execute_result"
    }
   ],
   "source": [
    "trn_tp.groupby('recording_id').count()['species_id'].value_counts()"
   ]
  },
  {
   "cell_type": "code",
   "execution_count": 79,
   "metadata": {},
   "outputs": [],
   "source": [
    "trn_tp['multi_labels'] = trn_tp['recording_id'].apply(lambda x: x in multi_species).values"
   ]
  },
  {
   "cell_type": "code",
   "execution_count": 80,
   "metadata": {},
   "outputs": [
    {
     "name": "stdout",
     "output_type": "stream",
     "text": [
      "151\n"
     ]
    },
    {
     "data": {
      "text/html": [
       "<div>\n",
       "<style scoped>\n",
       "    .dataframe tbody tr th:only-of-type {\n",
       "        vertical-align: middle;\n",
       "    }\n",
       "\n",
       "    .dataframe tbody tr th {\n",
       "        vertical-align: top;\n",
       "    }\n",
       "\n",
       "    .dataframe thead th {\n",
       "        text-align: right;\n",
       "    }\n",
       "</style>\n",
       "<table border=\"1\" class=\"dataframe\">\n",
       "  <thead>\n",
       "    <tr style=\"text-align: right;\">\n",
       "      <th></th>\n",
       "      <th>recording_id</th>\n",
       "      <th>species_id</th>\n",
       "      <th>songtype_id</th>\n",
       "      <th>t_min</th>\n",
       "      <th>f_min</th>\n",
       "      <th>t_max</th>\n",
       "      <th>f_max</th>\n",
       "      <th>multi_species</th>\n",
       "      <th>multi_labels</th>\n",
       "    </tr>\n",
       "  </thead>\n",
       "  <tbody>\n",
       "    <tr>\n",
       "      <th>19</th>\n",
       "      <td>03b96f209</td>\n",
       "      <td>16</td>\n",
       "      <td>4</td>\n",
       "      <td>30.9333</td>\n",
       "      <td>3093.75</td>\n",
       "      <td>32.7680</td>\n",
       "      <td>4593.75</td>\n",
       "      <td>True</td>\n",
       "      <td>True</td>\n",
       "    </tr>\n",
       "    <tr>\n",
       "      <th>20</th>\n",
       "      <td>03b96f209</td>\n",
       "      <td>16</td>\n",
       "      <td>4</td>\n",
       "      <td>49.6320</td>\n",
       "      <td>3093.75</td>\n",
       "      <td>51.4667</td>\n",
       "      <td>4593.75</td>\n",
       "      <td>True</td>\n",
       "      <td>True</td>\n",
       "    </tr>\n",
       "    <tr>\n",
       "      <th>28</th>\n",
       "      <td>053aeb7bd</td>\n",
       "      <td>23</td>\n",
       "      <td>4</td>\n",
       "      <td>9.8569</td>\n",
       "      <td>6459.96</td>\n",
       "      <td>17.7807</td>\n",
       "      <td>11627.90</td>\n",
       "      <td>True</td>\n",
       "      <td>True</td>\n",
       "    </tr>\n",
       "    <tr>\n",
       "      <th>29</th>\n",
       "      <td>053aeb7bd</td>\n",
       "      <td>23</td>\n",
       "      <td>4</td>\n",
       "      <td>0.9520</td>\n",
       "      <td>6459.96</td>\n",
       "      <td>8.8758</td>\n",
       "      <td>11627.90</td>\n",
       "      <td>True</td>\n",
       "      <td>True</td>\n",
       "    </tr>\n",
       "    <tr>\n",
       "      <th>75</th>\n",
       "      <td>11c2c02e5</td>\n",
       "      <td>15</td>\n",
       "      <td>1</td>\n",
       "      <td>17.6587</td>\n",
       "      <td>93.75</td>\n",
       "      <td>21.0027</td>\n",
       "      <td>1125.00</td>\n",
       "      <td>True</td>\n",
       "      <td>True</td>\n",
       "    </tr>\n",
       "    <tr>\n",
       "      <th>...</th>\n",
       "      <td>...</td>\n",
       "      <td>...</td>\n",
       "      <td>...</td>\n",
       "      <td>...</td>\n",
       "      <td>...</td>\n",
       "      <td>...</td>\n",
       "      <td>...</td>\n",
       "      <td>...</td>\n",
       "      <td>...</td>\n",
       "    </tr>\n",
       "    <tr>\n",
       "      <th>1154</th>\n",
       "      <td>ee3dc0bc6</td>\n",
       "      <td>17</td>\n",
       "      <td>1</td>\n",
       "      <td>47.0720</td>\n",
       "      <td>1312.50</td>\n",
       "      <td>53.5253</td>\n",
       "      <td>3937.50</td>\n",
       "      <td>True</td>\n",
       "      <td>True</td>\n",
       "    </tr>\n",
       "    <tr>\n",
       "      <th>1173</th>\n",
       "      <td>f3f82b897</td>\n",
       "      <td>19</td>\n",
       "      <td>1</td>\n",
       "      <td>53.7227</td>\n",
       "      <td>281.25</td>\n",
       "      <td>55.2747</td>\n",
       "      <td>2812.50</td>\n",
       "      <td>True</td>\n",
       "      <td>True</td>\n",
       "    </tr>\n",
       "    <tr>\n",
       "      <th>1174</th>\n",
       "      <td>f3f82b897</td>\n",
       "      <td>19</td>\n",
       "      <td>1</td>\n",
       "      <td>51.7013</td>\n",
       "      <td>281.25</td>\n",
       "      <td>53.2533</td>\n",
       "      <td>2812.50</td>\n",
       "      <td>True</td>\n",
       "      <td>True</td>\n",
       "    </tr>\n",
       "    <tr>\n",
       "      <th>1191</th>\n",
       "      <td>f97ababc1</td>\n",
       "      <td>15</td>\n",
       "      <td>1</td>\n",
       "      <td>10.8853</td>\n",
       "      <td>93.75</td>\n",
       "      <td>14.2293</td>\n",
       "      <td>1125.00</td>\n",
       "      <td>True</td>\n",
       "      <td>True</td>\n",
       "    </tr>\n",
       "    <tr>\n",
       "      <th>1192</th>\n",
       "      <td>f97ababc1</td>\n",
       "      <td>15</td>\n",
       "      <td>1</td>\n",
       "      <td>9.1200</td>\n",
       "      <td>93.75</td>\n",
       "      <td>12.4640</td>\n",
       "      <td>1125.00</td>\n",
       "      <td>True</td>\n",
       "      <td>True</td>\n",
       "    </tr>\n",
       "  </tbody>\n",
       "</table>\n",
       "<p>151 rows × 9 columns</p>\n",
       "</div>"
      ],
      "text/plain": [
       "     recording_id  species_id  songtype_id    t_min    f_min    t_max  \\\n",
       "19      03b96f209          16            4  30.9333  3093.75  32.7680   \n",
       "20      03b96f209          16            4  49.6320  3093.75  51.4667   \n",
       "28      053aeb7bd          23            4   9.8569  6459.96  17.7807   \n",
       "29      053aeb7bd          23            4   0.9520  6459.96   8.8758   \n",
       "75      11c2c02e5          15            1  17.6587    93.75  21.0027   \n",
       "...           ...         ...          ...      ...      ...      ...   \n",
       "1154    ee3dc0bc6          17            1  47.0720  1312.50  53.5253   \n",
       "1173    f3f82b897          19            1  53.7227   281.25  55.2747   \n",
       "1174    f3f82b897          19            1  51.7013   281.25  53.2533   \n",
       "1191    f97ababc1          15            1  10.8853    93.75  14.2293   \n",
       "1192    f97ababc1          15            1   9.1200    93.75  12.4640   \n",
       "\n",
       "         f_max  multi_species  multi_labels  \n",
       "19     4593.75           True          True  \n",
       "20     4593.75           True          True  \n",
       "28    11627.90           True          True  \n",
       "29    11627.90           True          True  \n",
       "75     1125.00           True          True  \n",
       "...        ...            ...           ...  \n",
       "1154   3937.50           True          True  \n",
       "1173   2812.50           True          True  \n",
       "1174   2812.50           True          True  \n",
       "1191   1125.00           True          True  \n",
       "1192   1125.00           True          True  \n",
       "\n",
       "[151 rows x 9 columns]"
      ]
     },
     "execution_count": 80,
     "metadata": {},
     "output_type": "execute_result"
    }
   ],
   "source": [
    "idxs_multi_species = trn_tp['multi_species'] == True\n",
    "print(np.sum(idxs_multi_species))\n",
    "trn_tp[idxs_multi_species]"
   ]
  },
  {
   "cell_type": "markdown",
   "metadata": {},
   "source": [
    "---"
   ]
  },
  {
   "cell_type": "markdown",
   "metadata": {},
   "source": [
    "recording_id に複数のspeciesがあるもの"
   ]
  },
  {
   "cell_type": "code",
   "execution_count": 81,
   "metadata": {},
   "outputs": [
    {
     "name": "stdout",
     "output_type": "stream",
     "text": [
      "27\n"
     ]
    },
    {
     "data": {
      "text/plain": [
       "array(['178b835e3', '1aa00dc63', '2bcddf9a5', '2d09eb065', '2eb098e76',\n",
       "       '34340b225', '349095631', '400b7210c', '43d34d63c', '551385b05',\n",
       "       '561ed4362', '5db2e86fe', '5f8eecc9e', '5f9b4785b', '60b260508',\n",
       "       '6d93f853d', '71cf9646b', '77299bde7', '7a9d46229', 'b55d2f7b4',\n",
       "       'b7485fa88', 'bf964d1fa', 'c12e0a62b', 'c91cae4aa', 'd58429096',\n",
       "       'e42215aa0', 'ed2f84e75'], dtype=object)"
      ]
     },
     "execution_count": 81,
     "metadata": {},
     "output_type": "execute_result"
    }
   ],
   "source": [
    "idxs = trn_tp.groupby('recording_id')['species_id'].nunique() != 1\n",
    "multi_species = trn_tp.groupby('recording_id').nunique()[idxs].index.values\n",
    "print(len(multi_species))\n",
    "multi_species"
   ]
  },
  {
   "cell_type": "code",
   "execution_count": 82,
   "metadata": {},
   "outputs": [
    {
     "data": {
      "text/plain": [
       "1    1105\n",
       "2      25\n",
       "3       2\n",
       "Name: species_id, dtype: int64"
      ]
     },
     "execution_count": 82,
     "metadata": {},
     "output_type": "execute_result"
    }
   ],
   "source": [
    "trn_tp.groupby('recording_id').nunique()['species_id'].value_counts()"
   ]
  },
  {
   "cell_type": "code",
   "execution_count": 83,
   "metadata": {},
   "outputs": [],
   "source": [
    "trn_tp['multi_species'] = trn_tp['recording_id'].apply(lambda x: x in multi_species).values"
   ]
  },
  {
   "cell_type": "code",
   "execution_count": 84,
   "metadata": {},
   "outputs": [
    {
     "name": "stdout",
     "output_type": "stream",
     "text": [
      "64\n"
     ]
    },
    {
     "data": {
      "text/html": [
       "<div>\n",
       "<style scoped>\n",
       "    .dataframe tbody tr th:only-of-type {\n",
       "        vertical-align: middle;\n",
       "    }\n",
       "\n",
       "    .dataframe tbody tr th {\n",
       "        vertical-align: top;\n",
       "    }\n",
       "\n",
       "    .dataframe thead th {\n",
       "        text-align: right;\n",
       "    }\n",
       "</style>\n",
       "<table border=\"1\" class=\"dataframe\">\n",
       "  <thead>\n",
       "    <tr style=\"text-align: right;\">\n",
       "      <th></th>\n",
       "      <th>recording_id</th>\n",
       "      <th>species_id</th>\n",
       "      <th>songtype_id</th>\n",
       "      <th>t_min</th>\n",
       "      <th>f_min</th>\n",
       "      <th>t_max</th>\n",
       "      <th>f_max</th>\n",
       "      <th>multi_species</th>\n",
       "      <th>multi_labels</th>\n",
       "    </tr>\n",
       "  </thead>\n",
       "  <tbody>\n",
       "    <tr>\n",
       "      <th>113</th>\n",
       "      <td>178b835e3</td>\n",
       "      <td>20</td>\n",
       "      <td>1</td>\n",
       "      <td>36.6453</td>\n",
       "      <td>2343.75</td>\n",
       "      <td>40.0853</td>\n",
       "      <td>5718.75</td>\n",
       "      <td>True</td>\n",
       "      <td>True</td>\n",
       "    </tr>\n",
       "    <tr>\n",
       "      <th>114</th>\n",
       "      <td>178b835e3</td>\n",
       "      <td>16</td>\n",
       "      <td>4</td>\n",
       "      <td>21.2267</td>\n",
       "      <td>3093.75</td>\n",
       "      <td>23.0613</td>\n",
       "      <td>4593.75</td>\n",
       "      <td>True</td>\n",
       "      <td>True</td>\n",
       "    </tr>\n",
       "    <tr>\n",
       "      <th>115</th>\n",
       "      <td>178b835e3</td>\n",
       "      <td>16</td>\n",
       "      <td>4</td>\n",
       "      <td>4.2560</td>\n",
       "      <td>3093.75</td>\n",
       "      <td>6.0907</td>\n",
       "      <td>4593.75</td>\n",
       "      <td>True</td>\n",
       "      <td>True</td>\n",
       "    </tr>\n",
       "    <tr>\n",
       "      <th>130</th>\n",
       "      <td>1aa00dc63</td>\n",
       "      <td>23</td>\n",
       "      <td>4</td>\n",
       "      <td>41.2328</td>\n",
       "      <td>6459.96</td>\n",
       "      <td>49.1566</td>\n",
       "      <td>11627.90</td>\n",
       "      <td>True</td>\n",
       "      <td>True</td>\n",
       "    </tr>\n",
       "    <tr>\n",
       "      <th>131</th>\n",
       "      <td>1aa00dc63</td>\n",
       "      <td>12</td>\n",
       "      <td>1</td>\n",
       "      <td>19.7867</td>\n",
       "      <td>562.50</td>\n",
       "      <td>22.9227</td>\n",
       "      <td>3281.25</td>\n",
       "      <td>True</td>\n",
       "      <td>True</td>\n",
       "    </tr>\n",
       "    <tr>\n",
       "      <th>...</th>\n",
       "      <td>...</td>\n",
       "      <td>...</td>\n",
       "      <td>...</td>\n",
       "      <td>...</td>\n",
       "      <td>...</td>\n",
       "      <td>...</td>\n",
       "      <td>...</td>\n",
       "      <td>...</td>\n",
       "      <td>...</td>\n",
       "    </tr>\n",
       "    <tr>\n",
       "      <th>1097</th>\n",
       "      <td>e42215aa0</td>\n",
       "      <td>4</td>\n",
       "      <td>1</td>\n",
       "      <td>1.3920</td>\n",
       "      <td>2343.75</td>\n",
       "      <td>3.2480</td>\n",
       "      <td>4218.75</td>\n",
       "      <td>True</td>\n",
       "      <td>True</td>\n",
       "    </tr>\n",
       "    <tr>\n",
       "      <th>1098</th>\n",
       "      <td>e42215aa0</td>\n",
       "      <td>23</td>\n",
       "      <td>4</td>\n",
       "      <td>4.3712</td>\n",
       "      <td>6459.96</td>\n",
       "      <td>12.2950</td>\n",
       "      <td>11627.90</td>\n",
       "      <td>True</td>\n",
       "      <td>True</td>\n",
       "    </tr>\n",
       "    <tr>\n",
       "      <th>1146</th>\n",
       "      <td>ed2f84e75</td>\n",
       "      <td>23</td>\n",
       "      <td>4</td>\n",
       "      <td>24.7815</td>\n",
       "      <td>6459.96</td>\n",
       "      <td>32.7053</td>\n",
       "      <td>11627.90</td>\n",
       "      <td>True</td>\n",
       "      <td>True</td>\n",
       "    </tr>\n",
       "    <tr>\n",
       "      <th>1147</th>\n",
       "      <td>ed2f84e75</td>\n",
       "      <td>22</td>\n",
       "      <td>1</td>\n",
       "      <td>19.8880</td>\n",
       "      <td>10687.50</td>\n",
       "      <td>21.4933</td>\n",
       "      <td>13687.50</td>\n",
       "      <td>True</td>\n",
       "      <td>True</td>\n",
       "    </tr>\n",
       "    <tr>\n",
       "      <th>1148</th>\n",
       "      <td>ed2f84e75</td>\n",
       "      <td>5</td>\n",
       "      <td>1</td>\n",
       "      <td>19.6107</td>\n",
       "      <td>4781.25</td>\n",
       "      <td>21.9627</td>\n",
       "      <td>10406.20</td>\n",
       "      <td>True</td>\n",
       "      <td>True</td>\n",
       "    </tr>\n",
       "  </tbody>\n",
       "</table>\n",
       "<p>64 rows × 9 columns</p>\n",
       "</div>"
      ],
      "text/plain": [
       "     recording_id  species_id  songtype_id    t_min     f_min    t_max  \\\n",
       "113     178b835e3          20            1  36.6453   2343.75  40.0853   \n",
       "114     178b835e3          16            4  21.2267   3093.75  23.0613   \n",
       "115     178b835e3          16            4   4.2560   3093.75   6.0907   \n",
       "130     1aa00dc63          23            4  41.2328   6459.96  49.1566   \n",
       "131     1aa00dc63          12            1  19.7867    562.50  22.9227   \n",
       "...           ...         ...          ...      ...       ...      ...   \n",
       "1097    e42215aa0           4            1   1.3920   2343.75   3.2480   \n",
       "1098    e42215aa0          23            4   4.3712   6459.96  12.2950   \n",
       "1146    ed2f84e75          23            4  24.7815   6459.96  32.7053   \n",
       "1147    ed2f84e75          22            1  19.8880  10687.50  21.4933   \n",
       "1148    ed2f84e75           5            1  19.6107   4781.25  21.9627   \n",
       "\n",
       "         f_max  multi_species  multi_labels  \n",
       "113    5718.75           True          True  \n",
       "114    4593.75           True          True  \n",
       "115    4593.75           True          True  \n",
       "130   11627.90           True          True  \n",
       "131    3281.25           True          True  \n",
       "...        ...            ...           ...  \n",
       "1097   4218.75           True          True  \n",
       "1098  11627.90           True          True  \n",
       "1146  11627.90           True          True  \n",
       "1147  13687.50           True          True  \n",
       "1148  10406.20           True          True  \n",
       "\n",
       "[64 rows x 9 columns]"
      ]
     },
     "execution_count": 84,
     "metadata": {},
     "output_type": "execute_result"
    }
   ],
   "source": [
    "idxs_multi_species = trn_tp['multi_species'] == True\n",
    "print(np.sum(idxs_multi_species))\n",
    "trn_tp[idxs_multi_species]"
   ]
  },
  {
   "cell_type": "code",
   "execution_count": null,
   "metadata": {},
   "outputs": [],
   "source": []
  },
  {
   "cell_type": "code",
   "execution_count": null,
   "metadata": {},
   "outputs": [],
   "source": []
  },
  {
   "cell_type": "markdown",
   "metadata": {},
   "source": [
    "# Spectrogram"
   ]
  },
  {
   "cell_type": "code",
   "execution_count": 10,
   "metadata": {},
   "outputs": [],
   "source": [
    "path_flac_list = sorted(glob(f'{DIR_TRAIN}*'))\n",
    "path_flac = path_flac_list[0]\n",
    "y, sr = sf.read(path_flac)"
   ]
  },
  {
   "cell_type": "code",
   "execution_count": 25,
   "metadata": {},
   "outputs": [
    {
     "data": {
      "image/png": "[encoded data removed]",
      "text/plain": [
       "<Figure size 432x288 with 1 Axes>"
      ]
     },
     "metadata": {
      "needs_background": "light"
     },
     "output_type": "display_data"
    }
   ],
   "source": [
    "melspec = librosa.feature.melspectrogram(y, sr=sr)\n",
    "melspec = librosa.power_to_db(melspec).astype(np.float32)\n",
    "librosa.display.specshow(melspec, x_axis='time', y_axis='linear', sr=sr)\n",
    "plt.show()\n"
   ]
  },
  {
   "cell_type": "raw",
   "metadata": {},
   "source": [
    "\n",
    "\n",
    "\n",
    "\n",
    "\n",
    "\n",
    "\n",
    "\n",
    "\n",
    "\n",
    "\n",
    "\n",
    "\n",
    "\n",
    "\n",
    "\n",
    "\n",
    "\n",
    "\n",
    "\n",
    "\n",
    "\n",
    "\n",
    "\n",
    "\n",
    "\n",
    "\n"
   ]
  }
 ],
 "metadata": {
  "kernelspec": {
   "display_name": "Python 3",
   "language": "python",
   "name": "python3"
  },
  "language_info": {
   "codemirror_mode": {
    "name": "ipython",
    "version": 3
   },
   "file_extension": ".py",
   "mimetype": "text/x-python",
   "name": "python",
   "nbconvert_exporter": "python",
   "pygments_lexer": "ipython3",
   "version": "3.8.5"
  }
 },
 "nbformat": 4,
 "nbformat_minor": 4
}
